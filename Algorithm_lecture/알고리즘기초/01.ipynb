{
 "cells": [
  {
   "cell_type": "code",
   "execution_count": 17,
   "metadata": {},
   "outputs": [
    {
     "name": "stdout",
     "output_type": "stream",
     "text": [
      "5.5066\n",
      "5.4754\n",
      "5.5376\n",
      "5.5114\n",
      "5.5218\n",
      "5.5171\n",
      "5.4956\n",
      "5.553\n",
      "5.4897\n",
      "5.5389\n"
     ]
    }
   ],
   "source": [
    "#https://www.youtube.com/watch?v=Svhp73MIOqY&list=PL1eLKSeW1Bajij7URN1uWCW--i0lL8w3H&index=4\n",
    "import random\n",
    "\n",
    "numlist = [1,5,7,13,50,120,300,320,400,700]\n",
    "\n",
    "for k in range(10):\n",
    "    cntSum = 0\n",
    "    for i in range(10000):\n",
    "        rndNum = numlist[random.randint(0,9)]\n",
    "        for n in numlist:\n",
    "            cntSum +=1\n",
    "            if n == rndNum:\n",
    "                break\n",
    "    print(cntSum/10000)"
   ]
  },
  {
   "cell_type": "code",
   "execution_count": 18,
   "metadata": {},
   "outputs": [
    {
     "name": "stdout",
     "output_type": "stream",
     "text": [
      "2.8835\n",
      "2.9071\n",
      "2.912\n",
      "2.9026\n",
      "2.8944\n",
      "2.8842\n",
      "2.9067\n",
      "2.9087\n",
      "2.907\n",
      "2.9138\n"
     ]
    }
   ],
   "source": [
    "numlist = [1,5,7,13,50,120,300,320,400,700]\n",
    "\n",
    "for k in range(10):\n",
    "    cntSum = 0\n",
    "    for i in range(10000):\n",
    "        start = 0\n",
    "        end = len(numlist) -1\n",
    "        key = int((start+end)/2)\n",
    "        v = random.randint(start, end)\n",
    "        while True:\n",
    "            cntSum +=1\n",
    "            if numlist[key]==numlist[v] or start ==end:\n",
    "                break\n",
    "            elif numlist[key] < numlist[v]:\n",
    "                start = key +1\n",
    "                key = int((start + end)/2)\n",
    "            else:\n",
    "                end = key -1\n",
    "                key = int((start+end)/2)\n",
    "                \n",
    "    print(cntSum / 10000)"
   ]
  },
  {
   "cell_type": "code",
   "execution_count": null,
   "metadata": {},
   "outputs": [
    {
     "name": "stdout",
     "output_type": "stream",
     "text": [
      "정수입력(0=종료, 검색하려면 -를 붙이세요)5\n",
      "[5]\n",
      "총 1개의 정수가 저장되었습니다.\n",
      "정수입력(0=종료, 검색하려면 -를 붙이세요)4\n",
      "[4, 5]\n",
      "총 2개의 정수가 저장되었습니다.\n",
      "정수입력(0=종료, 검색하려면 -를 붙이세요)5\n",
      "중복값이 있습니다.\n",
      "[4, 5]\n",
      "총 2개의 정수가 저장되었습니다.\n",
      "정수입력(0=종료, 검색하려면 -를 붙이세요)-5\n",
      "5()(은)는 1번째 위치에 있습니다.\n",
      "정수입력(0=종료, 검색하려면 -를 붙이세요)8\n",
      "[4, 5, 8]\n",
      "총 3개의 정수가 저장되었습니다.\n",
      "정수입력(0=종료, 검색하려면 -를 붙이세요)7\n",
      "[4, 5, 7, 8]\n",
      "총 4개의 정수가 저장되었습니다.\n",
      "정수입력(0=종료, 검색하려면 -를 붙이세요)5\n",
      "중복값이 있습니다.\n",
      "[4, 5, 7, 8]\n",
      "총 4개의 정수가 저장되었습니다.\n",
      "정수입력(0=종료, 검색하려면 -를 붙이세요)6\n",
      "[4, 5, 6, 7, 8]\n",
      "총 5개의 정수가 저장되었습니다.\n",
      "정수입력(0=종료, 검색하려면 -를 붙이세요)4\n",
      "중복값이 있습니다.\n",
      "[4, 5, 6, 7, 8]\n",
      "총 5개의 정수가 저장되었습니다.\n",
      "정수입력(0=종료, 검색하려면 -를 붙이세요)4\n",
      "중복값이 있습니다.\n",
      "[4, 5, 6, 7, 8]\n",
      "총 5개의 정수가 저장되었습니다.\n",
      "정수입력(0=종료, 검색하려면 -를 붙이세요)4\n",
      "중복값이 있습니다.\n",
      "[4, 5, 6, 7, 8]\n",
      "총 5개의 정수가 저장되었습니다.\n",
      "정수입력(0=종료, 검색하려면 -를 붙이세요)-8\n",
      "8()(은)는 4번째 위치에 있습니다.\n"
     ]
    }
   ],
   "source": [
    "k= 1\n",
    "numlist= []\n",
    "while k!=0:\n",
    "    k = int(input(\"정수입력(0=종료, 검색하려면 -를 붙이세요)\"))\n",
    "    if k >0:\n",
    "        if len(numlist) == 0:\n",
    "            numlist.append(k)\n",
    "        else:\n",
    "            for i,v in enumerate(numlist)            :\n",
    "                if k == v:\n",
    "                    print(\"중복값이 있습니다.\")\n",
    "                    break\n",
    "                if k < v:\n",
    "                    numlist.insert(i, k)\n",
    "                    break\n",
    "                if i == len(numlist)-1:\n",
    "                    numlist.append(k)\n",
    "                    break\n",
    "        print(numlist)\n",
    "        print(\"총 {}개의 정수가 저장되었습니다.\".format(len(numlist)))\n",
    "    elif k<0:\n",
    "        lookup = -k\n",
    "        start = 0\n",
    "        end = len(numlist) - 1\n",
    "        key = int((start+end)/2)\n",
    "        while True:\n",
    "            if start > end:\n",
    "                print(\"찾는 값이 없습니다.\")\n",
    "                break\n",
    "            if numlist[key] == lookup:\n",
    "                print(\"{}(은)는 {}번째 위치에 있습니다.\".format(lookup, key))\n",
    "                break\n",
    "            elif numlist[key] <lookup:\n",
    "                start = key +1\n",
    "                key = int((start+end)/2)\n",
    "            else:\n",
    "                end = key -1\n",
    "                key = int((start+end)/2)\n",
    "    \n",
    "print(\"프로그램 종료\")"
   ]
  },
  {
   "cell_type": "code",
   "execution_count": null,
   "metadata": {},
   "outputs": [],
   "source": [
    "sdds"
   ]
  },
  {
   "cell_type": "code",
   "execution_count": null,
   "metadata": {},
   "outputs": [],
   "source": []
  },
  {
   "cell_type": "code",
   "execution_count": null,
   "metadata": {},
   "outputs": [],
   "source": []
  },
  {
   "cell_type": "code",
   "execution_count": null,
   "metadata": {},
   "outputs": [],
   "source": []
  }
 ],
 "metadata": {
  "kernelspec": {
   "display_name": "Python 3",
   "language": "python",
   "name": "python3"
  },
  "language_info": {
   "codemirror_mode": {
    "name": "ipython",
    "version": 3
   },
   "file_extension": ".py",
   "mimetype": "text/x-python",
   "name": "python",
   "nbconvert_exporter": "python",
   "pygments_lexer": "ipython3",
   "version": "3.7.3"
  }
 },
 "nbformat": 4,
 "nbformat_minor": 2
}

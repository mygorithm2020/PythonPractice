{
 "cells": [
  {
   "cell_type": "code",
   "execution_count": 1,
   "metadata": {},
   "outputs": [],
   "source": [
    "# stack 구조"
   ]
  },
  {
   "cell_type": "code",
   "execution_count": 2,
   "metadata": {},
   "outputs": [],
   "source": [
    "class Stack:\n",
    "    def __init__(self):\n",
    "        self.data = []\n",
    "        \n",
    "    def is_empty(self):\n",
    "        return len(self.data) == 0\n",
    "    \n",
    "    def push(self, item):\n",
    "        self.data.append(item)\n",
    "        \n",
    "    def pop(self):\n",
    "        return self.data.pop()\n",
    "    \n",
    "    def peek(self):\n",
    "        return self.data[-1]"
   ]
  },
  {
   "cell_type": "code",
   "execution_count": 6,
   "metadata": {},
   "outputs": [
    {
     "name": "stdout",
     "output_type": "stream",
     "text": [
      "식을 입력하세요22\n"
     ]
    }
   ],
   "source": [
    "priority = {'*':3, '/':3, '+':2, '-':2, '(':1}\n",
    "expr = []\n",
    "operator = Stack()\n",
    "result = []\n",
    "tmp = input(\"식을 입력하세요\")\n",
    "for i in tmp:\n",
    "    if i==' ':\n",
    "        continue\n",
    "    expr.append(i)\n",
    "for i in expr:\n",
    "    if i=='(':\n",
    "        operator.push(i)\n",
    "    elif i in '+-*/':\n",
    "        if operator.is_empty():\n",
    "            operator.push(i)\n",
    "        else:\n",
    "            if priority[operator.peek()] >= priority[i]:\n",
    "                result.append(operator.pop())\n",
    "                operator.push(i)\n",
    "            else:\n",
    "                operator.push(i)\n",
    "    elif i == ')':\n",
    "        while True:\n",
    "            tmp = operator.pop()\n",
    "            if tmp =='(':\n",
    "                break\n",
    "            result.append(tmp)\n",
    "    else:\n",
    "        result.append(i)\n",
    "while not(operator.is_empty()):\n",
    "    result.append(operator.pop())\n",
    "print(''.join(result))"
   ]
  },
  {
   "cell_type": "code",
   "execution_count": null,
   "metadata": {},
   "outputs": [],
   "source": []
  },
  {
   "cell_type": "code",
   "execution_count": null,
   "metadata": {},
   "outputs": [],
   "source": []
  }
 ],
 "metadata": {
  "kernelspec": {
   "display_name": "Python 3",
   "language": "python",
   "name": "python3"
  },
  "language_info": {
   "codemirror_mode": {
    "name": "ipython",
    "version": 3
   },
   "file_extension": ".py",
   "mimetype": "text/x-python",
   "name": "python",
   "nbconvert_exporter": "python",
   "pygments_lexer": "ipython3",
   "version": "3.7.3"
  }
 },
 "nbformat": 4,
 "nbformat_minor": 2
}

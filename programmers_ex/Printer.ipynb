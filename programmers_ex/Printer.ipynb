{
 "cells": [
  {
   "cell_type": "code",
   "execution_count": 31,
   "metadata": {},
   "outputs": [],
   "source": [
    "def solution(priss, locs):\n",
    "    answer = 0\n",
    "    cnt =0\n",
    "    while locs>-1:\n",
    "        pris = priss\n",
    "        a = priss[0]\n",
    "        locss = locs\n",
    "        for i in range(len(priss)):\n",
    "            if a < priss[i]:\n",
    "                pris.append(pris[0])\n",
    "                pris.pop(0)\n",
    "                if locs==0:\n",
    "                    locs = len(pris)-1\n",
    "                else :\n",
    "                    locs-=1\n",
    "                break\n",
    "        if locss == locs:\n",
    "            pris.pop(0)\n",
    "            locs-=1\n",
    "            cnt+=1\n",
    "        priss =pris\n",
    "    answer =cnt  \n",
    "    return answer"
   ]
  },
  {
   "cell_type": "code",
   "execution_count": 32,
   "metadata": {},
   "outputs": [
    {
     "data": {
      "text/plain": [
       "1"
      ]
     },
     "execution_count": 32,
     "metadata": {},
     "output_type": "execute_result"
    }
   ],
   "source": [
    "priorities = [2, 1, 3, 2]\n",
    "location = 2\n",
    "solution(priorities,location)"
   ]
  },
  {
   "cell_type": "code",
   "execution_count": 33,
   "metadata": {},
   "outputs": [
    {
     "data": {
      "text/plain": [
       "5"
      ]
     },
     "execution_count": 33,
     "metadata": {},
     "output_type": "execute_result"
    }
   ],
   "source": [
    "priorities = [1,1,9,1,1,1]\n",
    "location = 0\n",
    "solution(priorities,location)"
   ]
  },
  {
   "cell_type": "code",
   "execution_count": null,
   "metadata": {},
   "outputs": [],
   "source": []
  }
 ],
 "metadata": {
  "kernelspec": {
   "display_name": "Python 3",
   "language": "python",
   "name": "python3"
  },
  "language_info": {
   "codemirror_mode": {
    "name": "ipython",
    "version": 3
   },
   "file_extension": ".py",
   "mimetype": "text/x-python",
   "name": "python",
   "nbconvert_exporter": "python",
   "pygments_lexer": "ipython3",
   "version": "3.7.3"
  }
 },
 "nbformat": 4,
 "nbformat_minor": 2
}

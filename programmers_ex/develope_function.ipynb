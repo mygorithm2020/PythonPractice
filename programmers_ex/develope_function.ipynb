{
 "cells": [
  {
   "cell_type": "code",
   "execution_count": 25,
   "metadata": {},
   "outputs": [],
   "source": [
    "#올림을 위한 라이브러리 math\n",
    "import math\n",
    "import numpy as np\n",
    "def solution(pros, speeds):\n",
    "    answer = []\n",
    "    day = zip(pros, speeds)\n",
    "    li = []\n",
    "    for i, j in day:\n",
    "        li.append(math.ceil((100-i)/j))\n",
    "    # li.pop(0)\n",
    "    li2 = np.array(li)\n",
    "    le =len(li2)\n",
    "    while le>0:\n",
    "        print(\"원본 : \", li2)\n",
    "        cnt = 0\n",
    "        li2 = li2-li2[0]\n",
    "        print(\"맨 앞숫자로 빼기 : \", li2)\n",
    "        li2 = np.delete(li2, 0)\n",
    "        print(\"맨 앞숫자 제거 : \", li2)\n",
    "        cnt+=1\n",
    "        le-=1\n",
    "        li3= li2\n",
    "        for i in range(len(li2)):\n",
    "            if li2[i]<=0:\n",
    "                cnt+=1\n",
    "                li3 = np.delete(li3, 0)\n",
    "                print(\"그 후 뒤에 뺄 수 있는거 차례차례 제거 : \", li3)\n",
    "                le-=1\n",
    "            else:\n",
    "                break\n",
    "        answer.append(cnt)\n",
    "        li2 = li3\n",
    "        print(\"--------------------------------\")\n",
    "    \n",
    "    return answer"
   ]
  },
  {
   "cell_type": "code",
   "execution_count": 26,
   "metadata": {},
   "outputs": [
    {
     "name": "stdout",
     "output_type": "stream",
     "text": [
      "원본 :  [7 3 9]\n",
      "맨 앞숫자로 빼기 :  [ 0 -4  2]\n",
      "맨 앞숫자 제거 :  [-4  2]\n",
      "그 후 뒤에 뺄 수 있는거 차례차례 제거 :  [2]\n",
      "--------------------------------\n",
      "원본 :  [2]\n",
      "맨 앞숫자로 빼기 :  [0]\n",
      "맨 앞숫자 제거 :  []\n",
      "--------------------------------\n"
     ]
    },
    {
     "data": {
      "text/plain": [
       "[2, 1]"
      ]
     },
     "execution_count": 26,
     "metadata": {},
     "output_type": "execute_result"
    }
   ],
   "source": [
    "progresses = [93, 30, 55]\n",
    "speeds = [1, 30, 5]\n",
    "solution(progresses, speeds)"
   ]
  },
  {
   "cell_type": "code",
   "execution_count": 3,
   "metadata": {},
   "outputs": [
    {
     "data": {
      "text/plain": [
       "array([1, 2, 3, 4, 5])"
      ]
     },
     "execution_count": 3,
     "metadata": {},
     "output_type": "execute_result"
    }
   ],
   "source": [
    "a = np.array([1,2,3,4,5])\n",
    "a"
   ]
  },
  {
   "cell_type": "code",
   "execution_count": 4,
   "metadata": {},
   "outputs": [
    {
     "data": {
      "text/plain": [
       "2"
      ]
     },
     "execution_count": 4,
     "metadata": {},
     "output_type": "execute_result"
    }
   ],
   "source": [
    "a[1]"
   ]
  },
  {
   "cell_type": "code",
   "execution_count": 5,
   "metadata": {},
   "outputs": [
    {
     "data": {
      "text/plain": [
       "5"
      ]
     },
     "execution_count": 5,
     "metadata": {},
     "output_type": "execute_result"
    }
   ],
   "source": [
    "len(a)"
   ]
  },
  {
   "cell_type": "code",
   "execution_count": 6,
   "metadata": {},
   "outputs": [
    {
     "name": "stdout",
     "output_type": "stream",
     "text": [
      "0\n",
      "1\n",
      "2\n",
      "3\n",
      "4\n"
     ]
    }
   ],
   "source": [
    "for i in range(len(a)):\n",
    "    print(i)"
   ]
  },
  {
   "cell_type": "code",
   "execution_count": 27,
   "metadata": {},
   "outputs": [
    {
     "name": "stdout",
     "output_type": "stream",
     "text": [
      "원본 :  [ 5 10  1  1 20  1]\n",
      "맨 앞숫자로 빼기 :  [ 0  5 -4 -4 15 -4]\n",
      "맨 앞숫자 제거 :  [ 5 -4 -4 15 -4]\n",
      "--------------------------------\n",
      "원본 :  [ 5 -4 -4 15 -4]\n",
      "맨 앞숫자로 빼기 :  [ 0 -9 -9 10 -9]\n",
      "맨 앞숫자 제거 :  [-9 -9 10 -9]\n",
      "그 후 뒤에 뺄 수 있는거 차례차례 제거 :  [-9 10 -9]\n",
      "그 후 뒤에 뺄 수 있는거 차례차례 제거 :  [10 -9]\n",
      "--------------------------------\n",
      "원본 :  [10 -9]\n",
      "맨 앞숫자로 빼기 :  [  0 -19]\n",
      "맨 앞숫자 제거 :  [-19]\n",
      "그 후 뒤에 뺄 수 있는거 차례차례 제거 :  []\n",
      "--------------------------------\n"
     ]
    },
    {
     "data": {
      "text/plain": [
       "[1, 3, 2]"
      ]
     },
     "execution_count": 27,
     "metadata": {},
     "output_type": "execute_result"
    }
   ],
   "source": [
    "progresses = [95, 90, 99, 99, 80, 99]\n",
    "speeds = [1, 1, 1, 1, 1, 1]\n",
    "solution(progresses, speeds)"
   ]
  },
  {
   "cell_type": "code",
   "execution_count": 22,
   "metadata": {},
   "outputs": [
    {
     "data": {
      "text/plain": [
       "array([1, 2, 3, 4, 5])"
      ]
     },
     "execution_count": 22,
     "metadata": {},
     "output_type": "execute_result"
    }
   ],
   "source": [
    "a = np.array([1,2,3,4,5])\n",
    "a"
   ]
  },
  {
   "cell_type": "code",
   "execution_count": 23,
   "metadata": {},
   "outputs": [
    {
     "data": {
      "text/plain": [
       "array([2, 3, 4, 5])"
      ]
     },
     "execution_count": 23,
     "metadata": {},
     "output_type": "execute_result"
    }
   ],
   "source": [
    "a= np.delete(a, 0)\n",
    "a"
   ]
  },
  {
   "cell_type": "code",
   "execution_count": 24,
   "metadata": {},
   "outputs": [
    {
     "data": {
      "text/plain": [
       "array([3, 4, 5])"
      ]
     },
     "execution_count": 24,
     "metadata": {},
     "output_type": "execute_result"
    }
   ],
   "source": [
    "a= np.delete(a, 0)\n",
    "a"
   ]
  },
  {
   "cell_type": "code",
   "execution_count": null,
   "metadata": {},
   "outputs": [],
   "source": []
  }
 ],
 "metadata": {
  "kernelspec": {
   "display_name": "Python 3",
   "language": "python",
   "name": "python3"
  },
  "language_info": {
   "codemirror_mode": {
    "name": "ipython",
    "version": 3
   },
   "file_extension": ".py",
   "mimetype": "text/x-python",
   "name": "python",
   "nbconvert_exporter": "python",
   "pygments_lexer": "ipython3",
   "version": "3.7.3"
  }
 },
 "nbformat": 4,
 "nbformat_minor": 2
}

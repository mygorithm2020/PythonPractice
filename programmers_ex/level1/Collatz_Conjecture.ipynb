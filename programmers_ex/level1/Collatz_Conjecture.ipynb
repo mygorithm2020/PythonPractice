{
 "cells": [
  {
   "cell_type": "code",
   "execution_count": 2,
   "metadata": {},
   "outputs": [],
   "source": [
    "n1 = 6\n",
    "n2 = 16\n",
    "n3 = 626331"
   ]
  },
  {
   "cell_type": "code",
   "execution_count": 27,
   "metadata": {},
   "outputs": [
    {
     "name": "stdout",
     "output_type": "stream",
     "text": [
      "첫\n",
      "3.0\n",
      "둘\n",
      "10.0\n",
      "첫\n",
      "5.0\n",
      "둘\n",
      "16.0\n",
      "첫\n",
      "8.0\n",
      "첫\n",
      "4.0\n",
      "첫\n",
      "2.0\n",
      "첫\n",
      "1.0\n",
      "8\n"
     ]
    }
   ],
   "source": [
    "n = 6\n",
    "k = 0\n",
    "while k<500:    \n",
    "    if n%2==0:\n",
    "        n= n/2\n",
    "        print(\"첫\")\n",
    "        print(n)\n",
    "    elif n==1:\n",
    "        print(k)\n",
    "        break\n",
    "    elif n%2==1:\n",
    "        n = n*3 +1\n",
    "        print(\"둘\")\n",
    "        print(n)    \n",
    "    k+=1"
   ]
  },
  {
   "cell_type": "code",
   "execution_count": 28,
   "metadata": {},
   "outputs": [],
   "source": [
    "# 짝수면 2로 나누고, 홀수면 3을 곱하고 1을 더한다 => 1이 될때까지 반복.....\n",
    "def solution(n):\n",
    "    k = 0\n",
    "    while k<500:\n",
    "        if n%2==0:\n",
    "            n= n/2\n",
    "        elif n==1:\n",
    "            return(k)\n",
    "        elif n%2==1:\n",
    "            n = n*3 +1\n",
    "        k+=1\n",
    "        \n",
    "    return(-1)"
   ]
  },
  {
   "cell_type": "code",
   "execution_count": 15,
   "metadata": {},
   "outputs": [],
   "source": [
    "def qwd():\n",
    "    k = 10\n",
    "    while k!=0:\n",
    "        print(k)\n",
    "        if k ==5:\n",
    "            return(k)\n",
    "        k-=1"
   ]
  },
  {
   "cell_type": "code",
   "execution_count": 32,
   "metadata": {},
   "outputs": [
    {
     "data": {
      "text/plain": [
       "8"
      ]
     },
     "execution_count": 32,
     "metadata": {},
     "output_type": "execute_result"
    }
   ],
   "source": [
    "solution(n1)"
   ]
  },
  {
   "cell_type": "code",
   "execution_count": 33,
   "metadata": {},
   "outputs": [
    {
     "data": {
      "text/plain": [
       "4"
      ]
     },
     "execution_count": 33,
     "metadata": {},
     "output_type": "execute_result"
    }
   ],
   "source": [
    "solution(n2)\n"
   ]
  },
  {
   "cell_type": "code",
   "execution_count": 34,
   "metadata": {},
   "outputs": [
    {
     "data": {
      "text/plain": [
       "-1"
      ]
     },
     "execution_count": 34,
     "metadata": {},
     "output_type": "execute_result"
    }
   ],
   "source": [
    "solution(n3)"
   ]
  },
  {
   "cell_type": "code",
   "execution_count": null,
   "metadata": {},
   "outputs": [],
   "source": []
  }
 ],
 "metadata": {
  "kernelspec": {
   "display_name": "Python 3",
   "language": "python",
   "name": "python3"
  },
  "language_info": {
   "codemirror_mode": {
    "name": "ipython",
    "version": 3
   },
   "file_extension": ".py",
   "mimetype": "text/x-python",
   "name": "python",
   "nbconvert_exporter": "python",
   "pygments_lexer": "ipython3",
   "version": "3.7.3"
  }
 },
 "nbformat": 4,
 "nbformat_minor": 2
}

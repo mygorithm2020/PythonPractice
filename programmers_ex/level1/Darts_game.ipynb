{
 "cells": [
  {
   "cell_type": "code",
   "execution_count": 11,
   "metadata": {},
   "outputs": [],
   "source": [
    "a = '1S2D*3T'\n",
    "b = \"1D2S#10S\""
   ]
  },
  {
   "cell_type": "code",
   "execution_count": 38,
   "metadata": {},
   "outputs": [
    {
     "name": "stdout",
     "output_type": "stream",
     "text": [
      "['1', 'S', '2', 'D', '*', '3', 'T']\n",
      "['1', 'S', '2', 'D', '*', '3', 'T']\n"
     ]
    }
   ],
   "source": [
    "qq = []\n",
    "li_a = list(a)\n",
    "for i in range(len(li_a)):\n",
    "    if (li_a[i]=='1') and (li_a[i+1]=='0'):\n",
    "        qq.append(10)\n",
    "        print(\"qwe\")\n",
    "    elif (li_a[i]=='0') and (li_a[i-1] == '1'):\n",
    "        print(\"qwe\")\n",
    "        pass\n",
    "    else:\n",
    "        qq.append(li_a[i])\n",
    "print(li_a)\n",
    "print(qq)\n",
    "    "
   ]
  },
  {
   "cell_type": "code",
   "execution_count": 40,
   "metadata": {},
   "outputs": [
    {
     "name": "stdout",
     "output_type": "stream",
     "text": [
      "[2, 8, 27]\n"
     ]
    },
    {
     "data": {
      "text/plain": [
       "37"
      ]
     },
     "execution_count": 40,
     "metadata": {},
     "output_type": "execute_result"
    }
   ],
   "source": [
    "ans = []\n",
    "for j in range(len(qq)):\n",
    "    \n",
    "    if qq[j]=='S':\n",
    "        ans.append(int(qq[j-1]))\n",
    "    elif qq[j]=='D':\n",
    "        ans.append(int(qq[j-1])**2)\n",
    "    elif qq[j] =='T':\n",
    "        ans.append(int(qq[j-1])**3)   \n",
    "    \n",
    "    if qq[j] == '#':\n",
    "        ans[-1] = ans[-1]*(-1)\n",
    "    elif qq[j] == '*':\n",
    "        if len(ans)>=2:\n",
    "            ans[-2] = ans[-2]*2\n",
    "            ans[-1] = ans[-1]*2\n",
    "        else:\n",
    "            ans[-1] = ans[-1]*2\n",
    "        \n",
    "print(ans)\n",
    "sum(ans)\n",
    "    \n",
    "        \n",
    "        "
   ]
  },
  {
   "cell_type": "code",
   "execution_count": 28,
   "metadata": {},
   "outputs": [
    {
     "name": "stdout",
     "output_type": "stream",
     "text": [
      "123\n",
      "222\n",
      "======\n",
      "123\n",
      "222\n",
      "======\n",
      "123\n",
      "222\n",
      "======\n",
      "123\n",
      "222\n",
      "======\n",
      "123\n",
      "222\n",
      "======\n",
      "======\n",
      "======\n",
      "======\n",
      "======\n",
      "======\n"
     ]
    }
   ],
   "source": [
    "for i in range(10):\n",
    "    if i<5:\n",
    "        print(\"123\")\n",
    "        pass\n",
    "        print(\"222\")\n",
    "    print(\"======\")"
   ]
  },
  {
   "cell_type": "code",
   "execution_count": 53,
   "metadata": {},
   "outputs": [],
   "source": [
    "import re\n",
    "dartResult = '1S2D*3T'\n",
    "bonus = {'S' : 1, 'D' : 2, 'T' : 3}\n",
    "option = {'' : 1, '*' : 2, '#' : -1}\n",
    "p = re.compile('(\\d+)([SDT])([*#]?)')\n",
    "dart = p.findall(dartResult)"
   ]
  },
  {
   "cell_type": "code",
   "execution_count": 54,
   "metadata": {},
   "outputs": [
    {
     "data": {
      "text/plain": [
       "re.compile(r'(\\d+)([SDT])([*#]?)', re.UNICODE)"
      ]
     },
     "execution_count": 54,
     "metadata": {},
     "output_type": "execute_result"
    }
   ],
   "source": [
    "p"
   ]
  },
  {
   "cell_type": "code",
   "execution_count": 55,
   "metadata": {},
   "outputs": [
    {
     "data": {
      "text/plain": [
       "[('1', 'S', ''), ('2', 'D', '*'), ('3', 'T', '')]"
      ]
     },
     "execution_count": 55,
     "metadata": {},
     "output_type": "execute_result"
    }
   ],
   "source": [
    "dart"
   ]
  },
  {
   "cell_type": "code",
   "execution_count": 56,
   "metadata": {},
   "outputs": [
    {
     "data": {
      "text/plain": [
       "[('1', 'S', '', '1', 'S', ''), ('2', 'D', '*'), ('3', 'T', '')]"
      ]
     },
     "execution_count": 56,
     "metadata": {},
     "output_type": "execute_result"
    }
   ],
   "source": [
    "dart[0] *=2\n",
    "dart"
   ]
  },
  {
   "cell_type": "code",
   "execution_count": 61,
   "metadata": {},
   "outputs": [
    {
     "ename": "TypeError",
     "evalue": "'int' object is not subscriptable",
     "output_type": "error",
     "traceback": [
      "\u001b[1;31m---------------------------------------------------------------------------\u001b[0m",
      "\u001b[1;31mTypeError\u001b[0m                                 Traceback (most recent call last)",
      "\u001b[1;32m<ipython-input-61-daa5345c2131>\u001b[0m in \u001b[0;36m<module>\u001b[1;34m\u001b[0m\n\u001b[1;32m----> 1\u001b[1;33m \u001b[0mdart\u001b[0m\u001b[1;33m[\u001b[0m\u001b[1;36m0\u001b[0m\u001b[1;33m]\u001b[0m \u001b[1;33m=\u001b[0m \u001b[0mint\u001b[0m\u001b[1;33m(\u001b[0m\u001b[0mdart\u001b[0m\u001b[1;33m[\u001b[0m\u001b[1;36m0\u001b[0m\u001b[1;33m]\u001b[0m\u001b[1;33m[\u001b[0m\u001b[1;36m0\u001b[0m\u001b[1;33m]\u001b[0m\u001b[1;33m)\u001b[0m \u001b[1;33m**\u001b[0m \u001b[0mbonus\u001b[0m\u001b[1;33m[\u001b[0m\u001b[0mdart\u001b[0m\u001b[1;33m[\u001b[0m\u001b[1;36m0\u001b[0m\u001b[1;33m]\u001b[0m\u001b[1;33m[\u001b[0m\u001b[1;36m1\u001b[0m\u001b[1;33m]\u001b[0m\u001b[1;33m]\u001b[0m \u001b[1;33m*\u001b[0m \u001b[0moption\u001b[0m\u001b[1;33m[\u001b[0m\u001b[0mdart\u001b[0m\u001b[1;33m[\u001b[0m\u001b[1;36m0\u001b[0m\u001b[1;33m]\u001b[0m\u001b[1;33m[\u001b[0m\u001b[1;36m2\u001b[0m\u001b[1;33m]\u001b[0m\u001b[1;33m]\u001b[0m\u001b[1;33m\u001b[0m\u001b[1;33m\u001b[0m\u001b[0m\n\u001b[0m\u001b[0;32m      2\u001b[0m \u001b[0mdart\u001b[0m\u001b[1;33m[\u001b[0m\u001b[1;36m0\u001b[0m\u001b[1;33m]\u001b[0m\u001b[1;33m*=\u001b[0m\u001b[1;36m2\u001b[0m\u001b[1;33m\u001b[0m\u001b[1;33m\u001b[0m\u001b[0m\n",
      "\u001b[1;31mTypeError\u001b[0m: 'int' object is not subscriptable"
     ]
    }
   ],
   "source": [
    "dart[0] = int(dart[0][0]) ** bonus[dart[0][1]] * option[dart[0][2]]\n",
    "dart[0]*=2"
   ]
  },
  {
   "cell_type": "code",
   "execution_count": 57,
   "metadata": {},
   "outputs": [],
   "source": [
    "dart[1] = int(dart[1][0]) ** bonus[dart[1][1]] * option[dart[1][2]]"
   ]
  },
  {
   "cell_type": "code",
   "execution_count": 58,
   "metadata": {},
   "outputs": [
    {
     "data": {
      "text/plain": [
       "[('1', 'S', '', '1', 'S', ''), 8, ('3', 'T', '')]"
      ]
     },
     "execution_count": 58,
     "metadata": {},
     "output_type": "execute_result"
    }
   ],
   "source": [
    "dart"
   ]
  },
  {
   "cell_type": "code",
   "execution_count": null,
   "metadata": {},
   "outputs": [],
   "source": []
  }
 ],
 "metadata": {
  "kernelspec": {
   "display_name": "Python 3",
   "language": "python",
   "name": "python3"
  },
  "language_info": {
   "codemirror_mode": {
    "name": "ipython",
    "version": 3
   },
   "file_extension": ".py",
   "mimetype": "text/x-python",
   "name": "python",
   "nbconvert_exporter": "python",
   "pygments_lexer": "ipython3",
   "version": "3.7.3"
  }
 },
 "nbformat": 4,
 "nbformat_minor": 2
}

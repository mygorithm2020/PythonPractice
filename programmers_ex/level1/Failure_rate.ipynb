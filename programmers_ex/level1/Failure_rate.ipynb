{
 "cells": [
  {
   "cell_type": "code",
   "execution_count": 8,
   "metadata": {},
   "outputs": [],
   "source": [
    "stages = [2, 1, 2, 6, 2, 4, 3, 3]\n",
    "N = 5"
   ]
  },
  {
   "cell_type": "code",
   "execution_count": 67,
   "metadata": {},
   "outputs": [
    {
     "data": {
      "text/plain": [
       "[0, 0, 0, 0, 0]"
      ]
     },
     "execution_count": 67,
     "metadata": {},
     "output_type": "execute_result"
    }
   ],
   "source": [
    "succed = [0]*N\n",
    "entire = [0]*N\n",
    "succed"
   ]
  },
  {
   "cell_type": "code",
   "execution_count": 68,
   "metadata": {},
   "outputs": [
    {
     "data": {
      "text/plain": [
       "{1: 0, 2: 0, 3: 0, 4: 0, 5: 0}"
      ]
     },
     "execution_count": 68,
     "metadata": {},
     "output_type": "execute_result"
    }
   ],
   "source": [
    "{(i+1):0 for i in range(5)}"
   ]
  },
  {
   "cell_type": "code",
   "execution_count": null,
   "metadata": {},
   "outputs": [],
   "source": []
  },
  {
   "cell_type": "code",
   "execution_count": 69,
   "metadata": {},
   "outputs": [
    {
     "name": "stdout",
     "output_type": "stream",
     "text": [
      "==================\n",
      "2\n",
      "qqqqqqqqqqqqqqq\n",
      "0\n",
      "qqqqqqqqqqqqqqq\n",
      "1\n",
      "==================\n",
      "1\n",
      "qqqqqqqqqqqqqqq\n",
      "0\n",
      "==================\n",
      "2\n",
      "qqqqqqqqqqqqqqq\n",
      "0\n",
      "qqqqqqqqqqqqqqq\n",
      "1\n",
      "==================\n",
      "6\n",
      "wwwwwwwwwwww\n",
      "1\n",
      "wwwwwwwwwwww\n",
      "1\n",
      "wwwwwwwwwwww\n",
      "1\n",
      "wwwwwwwwwwww\n",
      "1\n",
      "wwwwwwwwwwww\n",
      "1\n",
      "==================\n",
      "2\n",
      "qqqqqqqqqqqqqqq\n",
      "0\n",
      "qqqqqqqqqqqqqqq\n",
      "1\n",
      "==================\n",
      "4\n",
      "qqqqqqqqqqqqqqq\n",
      "0\n",
      "qqqqqqqqqqqqqqq\n",
      "1\n",
      "qqqqqqqqqqqqqqq\n",
      "2\n",
      "qqqqqqqqqqqqqqq\n",
      "3\n",
      "==================\n",
      "3\n",
      "qqqqqqqqqqqqqqq\n",
      "0\n",
      "qqqqqqqqqqqqqqq\n",
      "1\n",
      "qqqqqqqqqqqqqqq\n",
      "2\n",
      "==================\n",
      "3\n",
      "qqqqqqqqqqqqqqq\n",
      "0\n",
      "qqqqqqqqqqqqqqq\n",
      "1\n",
      "qqqqqqqqqqqqqqq\n",
      "2\n",
      "[1, 3, 2, 1, 0]\n",
      "[8, 7, 4, 2, 1]\n"
     ]
    }
   ],
   "source": [
    "for i in stages:\n",
    "    print(\"==================\")\n",
    "    print(i)\n",
    "    if i>N:\n",
    "        for k in range(i-1):\n",
    "            print('wwwwwwwwwwww')\n",
    "            print(j)                    \n",
    "            entire[k]+=1\n",
    "    else:\n",
    "        for j in range(i):\n",
    "            print('qqqqqqqqqqqqqqq')\n",
    "            print(j)        \n",
    "            if j==(i-1):\n",
    "                succed[j]+=1\n",
    "                entire[j]+=1\n",
    "            else:                \n",
    "                entire[j]+=1\n",
    "print(succed)\n",
    "print(entire)"
   ]
  },
  {
   "cell_type": "code",
   "execution_count": 73,
   "metadata": {},
   "outputs": [
    {
     "data": {
      "text/plain": [
       "{1: 0.125, 2: 0.42857142857142855, 3: 0.5, 4: 0.5, 5: 0.0}"
      ]
     },
     "execution_count": 73,
     "metadata": {},
     "output_type": "execute_result"
    }
   ],
   "source": [
    "fr = {(i+1):(a/b) for i, (a, b) in enumerate(zip(succed, entire))}\n",
    "fr"
   ]
  },
  {
   "cell_type": "code",
   "execution_count": 158,
   "metadata": {},
   "outputs": [
    {
     "name": "stdout",
     "output_type": "stream",
     "text": [
      "0.125\n",
      "0.42857142857142855\n",
      "0.5\n",
      "0.5\n",
      "0.0\n"
     ]
    }
   ],
   "source": [
    "for i in fr.items():\n",
    "    print(i[1])"
   ]
  },
  {
   "cell_type": "code",
   "execution_count": 147,
   "metadata": {},
   "outputs": [
    {
     "data": {
      "text/plain": [
       "[(3, 0.5), (4, 0.5), (2, 0.42857142857142855), (1, 0.125), (5, 0.0)]"
      ]
     },
     "execution_count": 147,
     "metadata": {},
     "output_type": "execute_result"
    }
   ],
   "source": [
    "fr2 = sorted(fr.items(), key = lambda item : item[1], reverse=True)\n",
    "fr2"
   ]
  },
  {
   "cell_type": "code",
   "execution_count": 80,
   "metadata": {},
   "outputs": [
    {
     "name": "stdout",
     "output_type": "stream",
     "text": [
      "0.5\n",
      "0.5\n",
      "0.42857142857142855\n",
      "0.125\n",
      "0.0\n"
     ]
    },
    {
     "data": {
      "text/plain": [
       "[3, 4, 2, 1, 5]"
      ]
     },
     "execution_count": 80,
     "metadata": {},
     "output_type": "execute_result"
    }
   ],
   "source": [
    "ans = []\n",
    "for i,j in sorted(fr.items(), key = lambda item : item[1], reverse=True):\n",
    "    ans.append(i)\n",
    "    print(j)\n",
    "ans"
   ]
  },
  {
   "cell_type": "code",
   "execution_count": 88,
   "metadata": {},
   "outputs": [
    {
     "data": {
      "text/plain": [
       "[(3, 0.5), (4, 0.5), (2, 0.42857142857142855), (1, 0.125), (5, 0.0)]"
      ]
     },
     "execution_count": 88,
     "metadata": {},
     "output_type": "execute_result"
    }
   ],
   "source": [
    "fr2"
   ]
  },
  {
   "cell_type": "code",
   "execution_count": 49,
   "metadata": {},
   "outputs": [
    {
     "data": {
      "text/plain": [
       "[1, 2, 3, 4, 5]"
      ]
     },
     "execution_count": 49,
     "metadata": {},
     "output_type": "execute_result"
    }
   ],
   "source": [
    "sorted({1: 'D', 2: 'B', 3: 'B', 5: 'E', 4: 'A'})"
   ]
  },
  {
   "cell_type": "code",
   "execution_count": 95,
   "metadata": {},
   "outputs": [
    {
     "data": {
      "text/plain": [
       "[1, 2, 3, 0, 4, 0]"
      ]
     },
     "execution_count": 95,
     "metadata": {},
     "output_type": "execute_result"
    }
   ],
   "source": [
    "qwe = [1,2,3,0,4,0]\n",
    "qwe"
   ]
  },
  {
   "cell_type": "code",
   "execution_count": 97,
   "metadata": {},
   "outputs": [
    {
     "data": {
      "text/plain": [
       "2"
      ]
     },
     "execution_count": 97,
     "metadata": {},
     "output_type": "execute_result"
    }
   ],
   "source": [
    "qwe.count(0)"
   ]
  },
  {
   "cell_type": "code",
   "execution_count": null,
   "metadata": {},
   "outputs": [],
   "source": [
    "b_list = map(lambda x: updown_img[int(x)^1], a_list)"
   ]
  },
  {
   "cell_type": "code",
   "execution_count": 50,
   "metadata": {},
   "outputs": [],
   "source": [
    "pgm_lang = {\n",
    "\n",
    "    \"java\": 20, \n",
    "\n",
    "    \"javascript\": 8, \n",
    "\n",
    "    \"c\": 7,  \n",
    "\n",
    "    \"r\": 4, \n",
    "\n",
    "    \"python\": 28 } \n"
   ]
  },
  {
   "cell_type": "code",
   "execution_count": 51,
   "metadata": {},
   "outputs": [
    {
     "data": {
      "text/plain": [
       "[('r', 4), ('c', 7), ('javascript', 8), ('java', 20), ('python', 28)]"
      ]
     },
     "execution_count": 51,
     "metadata": {},
     "output_type": "execute_result"
    }
   ],
   "source": [
    "pgm_lang_val = sorted(pgm_lang.items(), key = lambda item: item[1])\n",
    "pgm_lang_val"
   ]
  },
  {
   "cell_type": "code",
   "execution_count": 140,
   "metadata": {},
   "outputs": [],
   "source": [
    "stages = [2, 1, 2, 6, 2, 4, 3, 3]\n",
    "N = 5"
   ]
  },
  {
   "cell_type": "code",
   "execution_count": 143,
   "metadata": {},
   "outputs": [
    {
     "name": "stdout",
     "output_type": "stream",
     "text": [
      "1 1\n",
      "2 3\n",
      "3 2\n",
      "4 1\n",
      "5 0\n"
     ]
    }
   ],
   "source": [
    "result = {}\n",
    "qwe = len(stages)\n",
    "for i in range(1, N+1):     \n",
    "    \n",
    "    qq = stages.count(i)\n",
    "    print(i, qq)\n",
    "    result[i] = qq/qwe\n",
    "    qwe -=qq"
   ]
  },
  {
   "cell_type": "code",
   "execution_count": 144,
   "metadata": {},
   "outputs": [
    {
     "data": {
      "text/plain": [
       "{1: 0.125, 2: 0.42857142857142855, 3: 0.5, 4: 0.5, 5: 0.0}"
      ]
     },
     "execution_count": 144,
     "metadata": {},
     "output_type": "execute_result"
    }
   ],
   "source": [
    "result"
   ]
  },
  {
   "cell_type": "code",
   "execution_count": null,
   "metadata": {},
   "outputs": [],
   "source": []
  },
  {
   "cell_type": "code",
   "execution_count": null,
   "metadata": {},
   "outputs": [],
   "source": []
  },
  {
   "cell_type": "code",
   "execution_count": null,
   "metadata": {},
   "outputs": [],
   "source": []
  }
 ],
 "metadata": {
  "kernelspec": {
   "display_name": "Python 3",
   "language": "python",
   "name": "python3"
  },
  "language_info": {
   "codemirror_mode": {
    "name": "ipython",
    "version": 3
   },
   "file_extension": ".py",
   "mimetype": "text/x-python",
   "name": "python",
   "nbconvert_exporter": "python",
   "pygments_lexer": "ipython3",
   "version": "3.7.3"
  }
 },
 "nbformat": 4,
 "nbformat_minor": 2
}

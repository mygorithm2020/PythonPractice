{
 "cells": [
  {
   "cell_type": "code",
   "execution_count": 3,
   "metadata": {},
   "outputs": [],
   "source": [
    "nums = [1,2,3,4]"
   ]
  },
  {
   "cell_type": "code",
   "execution_count": 13,
   "metadata": {},
   "outputs": [
    {
     "name": "stdout",
     "output_type": "stream",
     "text": [
      "0\n",
      "1\n",
      "2\n",
      "3\n"
     ]
    }
   ],
   "source": [
    "for i in range(len(nums)):\n",
    "    print(i)\n",
    "    k1 = nums[i]\n",
    "    nums2 = nums[i+1:]\n",
    "    for j in range(len(nums2)):\n",
    "        k2 = nums2[j]"
   ]
  },
  {
   "cell_type": "code",
   "execution_count": 36,
   "metadata": {},
   "outputs": [
    {
     "name": "stdout",
     "output_type": "stream",
     "text": [
      "6 qwe\n",
      "2\n",
      "0 ss\n",
      "7 qwe\n",
      "2\n",
      "1 ss\n",
      "3\n",
      "1 ss\n",
      "4\n",
      "3 ss\n",
      "5\n",
      "2 ss\n",
      "6\n",
      "1 ss\n"
     ]
    },
    {
     "data": {
      "text/plain": [
       "1"
      ]
     },
     "execution_count": 36,
     "metadata": {},
     "output_type": "execute_result"
    }
   ],
   "source": [
    "li = 0\n",
    "k1 = nums[0]\n",
    "k2 = nums[1]\n",
    "for i in nums[2:]:    \n",
    "    qwe = k1 + k2 + i\n",
    "    print(qwe, \"qwe\")\n",
    "    ans = True\n",
    "    for i in range(2,qwe):\n",
    "        ss = qwe% i \n",
    "        print(i)\n",
    "        print(ss, \"ss\")\n",
    "        if ss ==0:\n",
    "            ans = False\n",
    "            break            \n",
    "    if ans ==True :\n",
    "        li +=1\n",
    "li"
   ]
  },
  {
   "cell_type": "code",
   "execution_count": 27,
   "metadata": {},
   "outputs": [
    {
     "name": "stdout",
     "output_type": "stream",
     "text": [
      "1\n",
      "2\n",
      "3\n",
      "0\n"
     ]
    }
   ],
   "source": [
    "# 소수란? : 나누어지는 수가 1과 자기자신만 있는 경우이거든? 나누어진다는건 나머지가 0이라는이야기고\n",
    "ans = True\n",
    "cccc= 35\n",
    "for i in range(2,cccc):\n",
    "    ss = cccc% i \n",
    "    print(ss)\n",
    "    if ss ==0:\n",
    "        break\n",
    "        ans = False"
   ]
  },
  {
   "cell_type": "code",
   "execution_count": 52,
   "metadata": {},
   "outputs": [
    {
     "name": "stdout",
     "output_type": "stream",
     "text": [
      "i 0\n",
      "1 n1\n",
      "0 j\n",
      "2 n2\n",
      "0 k\n",
      "3 n3\n",
      " 합 6\n",
      "1 k\n",
      "4 n3\n",
      " 합 7\n",
      "1 j\n",
      "3 n2\n",
      "0 k\n",
      "4 n3\n",
      " 합 8\n",
      "i 1\n",
      "2 n1\n",
      "0 j\n",
      "3 n2\n",
      "0 k\n",
      "4 n3\n",
      " 합 9\n"
     ]
    }
   ],
   "source": [
    "nums = [1,2,3,4]\n",
    "for i in range(len(nums)-2):\n",
    "    print(\"i\", i)\n",
    "    n1 = nums[i]\n",
    "    print(n1, 'n1')\n",
    "    for j in range(len(nums)-(i+2)):\n",
    "        print(j, 'j')\n",
    "        n2 = nums[i+1+j]\n",
    "        print(n2, 'n2')\n",
    "        for k in range(len(nums)-(i+1)-(j+1)):\n",
    "            print(k, \"k\")\n",
    "            n3 = nums[i+j+k+2]\n",
    "            print(n3, 'n3')\n",
    "            print(' 합', n1+n2+n3)\n",
    "    "
   ]
  },
  {
   "cell_type": "code",
   "execution_count": 64,
   "metadata": {
    "scrolled": true
   },
   "outputs": [
    {
     "name": "stdout",
     "output_type": "stream",
     "text": [
      "i 0\n",
      "1 n1\n",
      "0 j\n",
      "2 n2\n",
      "0 k\n",
      "7 n3\n",
      " 합 10\n",
      "2\n",
      "0 ss\n",
      "1 k\n",
      "6 n3\n",
      " 합 9\n",
      "2\n",
      "1 ss\n",
      "3\n",
      "0 ss\n",
      "2 k\n",
      "4 n3\n",
      " 합 7\n",
      "2\n",
      "1 ss\n",
      "3\n",
      "1 ss\n",
      "4\n",
      "3 ss\n",
      "5\n",
      "2 ss\n",
      "6\n",
      "1 ss\n",
      "1 j\n",
      "7 n2\n",
      "0 k\n",
      "6 n3\n",
      " 합 14\n",
      "2\n",
      "0 ss\n",
      "1 k\n",
      "4 n3\n",
      " 합 12\n",
      "2\n",
      "0 ss\n",
      "2 j\n",
      "6 n2\n",
      "0 k\n",
      "4 n3\n",
      " 합 11\n",
      "2\n",
      "1 ss\n",
      "3\n",
      "2 ss\n",
      "4\n",
      "3 ss\n",
      "5\n",
      "1 ss\n",
      "6\n",
      "5 ss\n",
      "7\n",
      "4 ss\n",
      "8\n",
      "3 ss\n",
      "9\n",
      "2 ss\n",
      "10\n",
      "1 ss\n",
      "i 1\n",
      "2 n1\n",
      "0 j\n",
      "7 n2\n",
      "0 k\n",
      "6 n3\n",
      " 합 15\n",
      "2\n",
      "1 ss\n",
      "3\n",
      "0 ss\n",
      "1 k\n",
      "4 n3\n",
      " 합 13\n",
      "2\n",
      "1 ss\n",
      "3\n",
      "1 ss\n",
      "4\n",
      "1 ss\n",
      "5\n",
      "3 ss\n",
      "6\n",
      "1 ss\n",
      "7\n",
      "6 ss\n",
      "8\n",
      "5 ss\n",
      "9\n",
      "4 ss\n",
      "10\n",
      "3 ss\n",
      "11\n",
      "2 ss\n",
      "12\n",
      "1 ss\n",
      "1 j\n",
      "6 n2\n",
      "0 k\n",
      "4 n3\n",
      " 합 12\n",
      "2\n",
      "0 ss\n",
      "i 2\n",
      "7 n1\n",
      "0 j\n",
      "6 n2\n",
      "0 k\n",
      "4 n3\n",
      " 합 17\n",
      "2\n",
      "1 ss\n",
      "3\n",
      "2 ss\n",
      "4\n",
      "1 ss\n",
      "5\n",
      "2 ss\n",
      "6\n",
      "5 ss\n",
      "7\n",
      "3 ss\n",
      "8\n",
      "1 ss\n",
      "9\n",
      "8 ss\n",
      "10\n",
      "7 ss\n",
      "11\n",
      "6 ss\n",
      "12\n",
      "5 ss\n",
      "13\n",
      "4 ss\n",
      "14\n",
      "3 ss\n",
      "15\n",
      "2 ss\n",
      "16\n",
      "1 ss\n"
     ]
    },
    {
     "data": {
      "text/plain": [
       "4"
      ]
     },
     "execution_count": 64,
     "metadata": {},
     "output_type": "execute_result"
    }
   ],
   "source": [
    "nums = [1,2,7,6,4]\n",
    "li = 0\n",
    "for i in range(len(nums)-2):\n",
    "    print(\"i\", i)\n",
    "    n1 = nums[i]\n",
    "    print(n1, 'n1')\n",
    "    for j in range(len(nums)-(i+2)):\n",
    "        print(j, 'j')\n",
    "        n2 = nums[i+1+j]\n",
    "        print(n2, 'n2')\n",
    "        for k in range(len(nums)-(i+1)-(j+1)):\n",
    "            print(k, \"k\")\n",
    "            n3 = nums[i+j+k+2]\n",
    "            print(n3, 'n3')\n",
    "            print(' 합', n1+n2+n3)\n",
    "            qwe = n1+n2+n3         \n",
    "            ans = True\n",
    "            for q in range(2,qwe):\n",
    "                ss = qwe% q \n",
    "                print(q)\n",
    "                print(ss, \"ss\")\n",
    "                if ss ==0:\n",
    "                    ans = False\n",
    "                    break            \n",
    "            if ans ==True :\n",
    "                li +=1\n",
    "li"
   ]
  },
  {
   "cell_type": "code",
   "execution_count": 62,
   "metadata": {},
   "outputs": [
    {
     "name": "stdout",
     "output_type": "stream",
     "text": [
      "sdw\n",
      "www\n",
      "sdw\n",
      "www\n",
      "sdw\n",
      "www\n",
      "sdw\n",
      "www\n",
      "sdw\n",
      "www\n"
     ]
    }
   ],
   "source": [
    "for i in range(5):\n",
    "    print(\"sdw\")\n",
    "    for j in range(3):\n",
    "        if j == 1:\n",
    "            break\n",
    "        print(\"www\")"
   ]
  },
  {
   "cell_type": "code",
   "execution_count": 66,
   "metadata": {},
   "outputs": [
    {
     "data": {
      "text/plain": [
       "4"
      ]
     },
     "execution_count": 66,
     "metadata": {},
     "output_type": "execute_result"
    }
   ],
   "source": [
    "nums = [1,2,7,6,4]\n",
    "li = 0\n",
    "for i in range(len(nums)-2):        \n",
    "    for j in range(len(nums)-(i+2)):                \n",
    "        for k in range(len(nums)-(i+1)-(j+1)):                                \n",
    "            qwe = nums[i]+nums[i+1+j]+nums[i+j+k+2]    \n",
    "            ans = True\n",
    "            for q in range(2,qwe):                               \n",
    "                if qwe% q ==0:\n",
    "                    ans = False\n",
    "                    break            \n",
    "            if ans ==True :\n",
    "                li +=1\n",
    "li"
   ]
  },
  {
   "cell_type": "code",
   "execution_count": null,
   "metadata": {},
   "outputs": [],
   "source": [
    "def prime(n):\n",
    "    "
   ]
  },
  {
   "cell_type": "code",
   "execution_count": 69,
   "metadata": {},
   "outputs": [
    {
     "data": {
      "text/plain": [
       "[(1, 2, 7),\n",
       " (1, 2, 6),\n",
       " (1, 2, 4),\n",
       " (1, 7, 6),\n",
       " (1, 7, 4),\n",
       " (1, 6, 4),\n",
       " (2, 7, 6),\n",
       " (2, 7, 4),\n",
       " (2, 6, 4),\n",
       " (7, 6, 4)]"
      ]
     },
     "execution_count": 69,
     "metadata": {},
     "output_type": "execute_result"
    }
   ],
   "source": [
    "from itertools import combinations as cn\n",
    "list(cn(nums, 3))"
   ]
  },
  {
   "cell_type": "code",
   "execution_count": null,
   "metadata": {},
   "outputs": [],
   "source": []
  },
  {
   "cell_type": "code",
   "execution_count": 70,
   "metadata": {},
   "outputs": [
    {
     "name": "stdout",
     "output_type": "stream",
     "text": [
      "10\n",
      "9\n",
      "7\n",
      "14\n",
      "12\n",
      "11\n",
      "15\n",
      "13\n",
      "12\n",
      "17\n"
     ]
    }
   ],
   "source": [
    "for i in list(cn(nums, 3)):\n",
    "    print(sum(i))"
   ]
  }
 ],
 "metadata": {
  "kernelspec": {
   "display_name": "Python 3",
   "language": "python",
   "name": "python3"
  },
  "language_info": {
   "codemirror_mode": {
    "name": "ipython",
    "version": 3
   },
   "file_extension": ".py",
   "mimetype": "text/x-python",
   "name": "python",
   "nbconvert_exporter": "python",
   "pygments_lexer": "ipython3",
   "version": "3.7.3"
  }
 },
 "nbformat": 4,
 "nbformat_minor": 2
}

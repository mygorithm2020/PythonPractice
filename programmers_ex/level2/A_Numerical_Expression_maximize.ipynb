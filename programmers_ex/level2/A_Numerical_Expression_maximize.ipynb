{
 "cells": [
  {
   "cell_type": "code",
   "execution_count": 1,
   "metadata": {},
   "outputs": [],
   "source": [
    "exp = \"100-200*300-500+20\""
   ]
  },
  {
   "cell_type": "code",
   "execution_count": 12,
   "metadata": {},
   "outputs": [
    {
     "data": {
      "text/plain": [
       "['100', '200*300', '500+20']"
      ]
     },
     "execution_count": 12,
     "metadata": {},
     "output_type": "execute_result"
    }
   ],
   "source": [
    "k = exp.split(\"-\")\n",
    "k"
   ]
  },
  {
   "cell_type": "code",
   "execution_count": 15,
   "metadata": {},
   "outputs": [
    {
     "name": "stdout",
     "output_type": "stream",
     "text": [
      "['100']\n",
      "['200*300']\n",
      "['500', '20']\n"
     ]
    },
    {
     "data": {
      "text/plain": [
       "[['100'], ['200*300'], ['500', '20']]"
      ]
     },
     "execution_count": 15,
     "metadata": {},
     "output_type": "execute_result"
    }
   ],
   "source": [
    "j = []\n",
    "for i in k:\n",
    "    print(i.split(\"+\"))\n",
    "    j.append(i.split(\"+\"))\n",
    "j"
   ]
  },
  {
   "cell_type": "code",
   "execution_count": 29,
   "metadata": {},
   "outputs": [
    {
     "name": "stdout",
     "output_type": "stream",
     "text": [
      "['100', '-', '200', '*', '300', '-', '500', '+', '20']\n"
     ]
    }
   ],
   "source": [
    "#1. 숫자와 수식 구분하기\n",
    "operator = \"+-*\"\n",
    "li = []\n",
    "k = \"\"\n",
    "for i in exp:     \n",
    "    if i not in operator:\n",
    "        k+=i\n",
    "    else:\n",
    "        li.append(k)\n",
    "        k = \"\"\n",
    "        li.append(i)\n",
    "if k:\n",
    "    li.append(k)\n",
    "    \n",
    "print(li)"
   ]
  },
  {
   "cell_type": "code",
   "execution_count": 24,
   "metadata": {},
   "outputs": [
    {
     "data": {
      "text/plain": [
       "<itertools.permutations at 0x15767ec0570>"
      ]
     },
     "execution_count": 24,
     "metadata": {},
     "output_type": "execute_result"
    }
   ],
   "source": [
    "# 2. 우선 순위 선정하기\n",
    "from itertools import permutations\n",
    "permutations([0,1,2],2)"
   ]
  },
  {
   "cell_type": "code",
   "execution_count": 37,
   "metadata": {},
   "outputs": [
    {
     "data": {
      "text/plain": [
       "[('+', '-', '*'),\n",
       " ('+', '*', '-'),\n",
       " ('-', '+', '*'),\n",
       " ('-', '*', '+'),\n",
       " ('*', '+', '-'),\n",
       " ('*', '-', '+')]"
      ]
     },
     "execution_count": 37,
     "metadata": {},
     "output_type": "execute_result"
    }
   ],
   "source": [
    "priority = list(permutations(['+','-','*'],3))\n",
    "priority"
   ]
  },
  {
   "cell_type": "code",
   "execution_count": 40,
   "metadata": {},
   "outputs": [
    {
     "name": "stdout",
     "output_type": "stream",
     "text": [
      "['100', '-', '200', '*', '300', '-', '500', '+', '20']\n",
      "[('+', '-', '*'), ('+', '*', '-'), ('-', '+', '*'), ('-', '*', '+'), ('*', '+', '-'), ('*', '-', '+')]\n",
      "('+', '-', '*')\n"
     ]
    }
   ],
   "source": [
    "#3. 우선순위에 맞게 계산하기\n",
    "print(li)\n",
    "print(priority)\n",
    "print(priority[0])"
   ]
  },
  {
   "cell_type": "code",
   "execution_count": 41,
   "metadata": {},
   "outputs": [
    {
     "name": "stdout",
     "output_type": "stream",
     "text": [
      "+\n",
      "-\n",
      "*\n"
     ]
    }
   ],
   "source": [
    "for i in priority[0]:\n",
    "    print(i)"
   ]
  },
  {
   "cell_type": "code",
   "execution_count": 43,
   "metadata": {},
   "outputs": [
    {
     "name": "stdout",
     "output_type": "stream",
     "text": [
      "0\n",
      "1\n",
      "2\n"
     ]
    }
   ],
   "source": [
    "k=0\n",
    "while k<3:\n",
    "    for i in li:\n",
    "        if i ==priority[0][k]:\n",
    "            \n",
    "    k+=1\n",
    "    "
   ]
  },
  {
   "cell_type": "code",
   "execution_count": null,
   "metadata": {},
   "outputs": [],
   "source": []
  },
  {
   "cell_type": "code",
   "execution_count": null,
   "metadata": {},
   "outputs": [],
   "source": []
  },
  {
   "cell_type": "code",
   "execution_count": null,
   "metadata": {},
   "outputs": [],
   "source": []
  },
  {
   "cell_type": "code",
   "execution_count": 32,
   "metadata": {},
   "outputs": [],
   "source": [
    "#4. 절대값이 가장 큰 값 찾기"
   ]
  },
  {
   "cell_type": "code",
   "execution_count": null,
   "metadata": {},
   "outputs": [],
   "source": []
  },
  {
   "cell_type": "code",
   "execution_count": null,
   "metadata": {},
   "outputs": [],
   "source": []
  },
  {
   "cell_type": "code",
   "execution_count": null,
   "metadata": {},
   "outputs": [],
   "source": []
  }
 ],
 "metadata": {
  "kernelspec": {
   "display_name": "Python 3",
   "language": "python",
   "name": "python3"
  },
  "language_info": {
   "codemirror_mode": {
    "name": "ipython",
    "version": 3
   },
   "file_extension": ".py",
   "mimetype": "text/x-python",
   "name": "python",
   "nbconvert_exporter": "python",
   "pygments_lexer": "ipython3",
   "version": "3.7.3"
  }
 },
 "nbformat": 4,
 "nbformat_minor": 2
}

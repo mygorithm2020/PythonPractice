{
 "cells": [
  {
   "cell_type": "code",
   "execution_count": 16,
   "metadata": {},
   "outputs": [],
   "source": [
    "n = 8\n",
    "a = 4\n",
    "b = 7"
   ]
  },
  {
   "cell_type": "code",
   "execution_count": 13,
   "metadata": {},
   "outputs": [],
   "source": [
    "import math"
   ]
  },
  {
   "cell_type": "code",
   "execution_count": 8,
   "metadata": {},
   "outputs": [
    {
     "data": {
      "text/plain": [
       "2"
      ]
     },
     "execution_count": 8,
     "metadata": {},
     "output_type": "execute_result"
    }
   ],
   "source": [
    "a2 = math.ceil(a/2)\n",
    "a2"
   ]
  },
  {
   "cell_type": "code",
   "execution_count": 9,
   "metadata": {},
   "outputs": [
    {
     "data": {
      "text/plain": [
       "4"
      ]
     },
     "execution_count": 9,
     "metadata": {},
     "output_type": "execute_result"
    }
   ],
   "source": [
    "b2 = math.ceil(b/2)\n",
    "b2"
   ]
  },
  {
   "cell_type": "code",
   "execution_count": 28,
   "metadata": {},
   "outputs": [
    {
     "name": "stdout",
     "output_type": "stream",
     "text": [
      "2 262193\n",
      "1 131097\n",
      "1 65549\n",
      "1 32775\n",
      "1 16388\n",
      "1 8194\n",
      "1 4097\n",
      "1 2049\n",
      "1 1025\n",
      "1 513\n",
      "1 257\n",
      "1 129\n",
      "1 65\n",
      "1 33\n",
      "1 17\n",
      "1 9\n",
      "1 5\n",
      "1 3\n",
      "1 2\n",
      "hi\n",
      "19\n"
     ]
    }
   ],
   "source": [
    "a = 3\n",
    "b = 2**19+97\n",
    "answer = 0\n",
    "while True:\n",
    "    a = math.ceil(a/2)\n",
    "    b = math.ceil(b/2)\n",
    "    answer +=1\n",
    "    print(a, b)\n",
    "    if abs(a-b)==1 and max(a,b)%2==0 :\n",
    "        print('hi')\n",
    "        break\n",
    "print(answer)"
   ]
  },
  {
   "cell_type": "code",
   "execution_count": null,
   "metadata": {},
   "outputs": [],
   "source": []
  }
 ],
 "metadata": {
  "kernelspec": {
   "display_name": "Python 3",
   "language": "python",
   "name": "python3"
  },
  "language_info": {
   "codemirror_mode": {
    "name": "ipython",
    "version": 3
   },
   "file_extension": ".py",
   "mimetype": "text/x-python",
   "name": "python",
   "nbconvert_exporter": "python",
   "pygments_lexer": "ipython3",
   "version": "3.7.3"
  }
 },
 "nbformat": 4,
 "nbformat_minor": 2
}

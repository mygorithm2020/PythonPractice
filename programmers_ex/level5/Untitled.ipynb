{
 "cells": [
  {
   "cell_type": "code",
   "execution_count": 1,
   "metadata": {},
   "outputs": [
    {
     "name": "stdout",
     "output_type": "stream",
     "text": [
      "[[0, 0], [0, 0], [0, 0], [0, 0], [0, 0], [0, 0], [0, 0], [0, 0], [0, 0], [0, 0], [0, 0], [0, 0], [0, 0], [0, 0], [0, 0], [0, 0], [0, 0], [0, 0], [0, 0], [0, 0]]\n",
      "[-1, 0]\n",
      "[-2, 0]\n",
      "[-3, 0]\n",
      "[-3, -1]\n",
      "[-3, -2]\n",
      "[-3, -3]\n",
      "[-2, -3]\n",
      "[-1, -3]\n",
      "[0, -3]\n",
      "[0, -2]\n",
      "[0, -1]\n",
      "[0, 0]\n",
      "[1, 1]\n",
      "[0, 1]\n",
      "[-1, 0]\n",
      "[-2, -1]\n",
      "[-1, -2]\n",
      "[-2, -2]\n",
      "[-2, -1]\n",
      "[[0, 0], [-1, 0], [-2, 0], [-3, 0], [-3, -1], [-3, -2], [-3, -3], [-2, -3], [-1, -3], [0, -3], [0, -2], [0, -1], [0, 0], [1, 1], [0, 1], [-1, 0], [-2, -1], [-1, -2], [-2, -2], [-2, -1]]\n",
      "3\n"
     ]
    },
    {
     "data": {
      "text/plain": [
       "<function matplotlib.pyplot.show(*args, **kw)>"
      ]
     },
     "execution_count": 1,
     "metadata": {},
     "output_type": "execute_result"
    }
   ],
   "source": [
    "arrows = [6, 6, 6, 4, 4, 4, 2, 2, 2, 0, 0, 0, 1, 6, 5, 5, 3, 6, 0]\n",
    "de_dot = [0,0]\n",
    "dic ={\n",
    "  0: [0,1],\n",
    "  1: [1,1],\n",
    "  2: [1,0],\n",
    "  3: [1,-1],\n",
    "  4: [0,-1],\n",
    "  5: [-1,-1],\n",
    "  6: [-1,0],\n",
    "  7: [-1,1],  \n",
    "}\n",
    "\n",
    "cou = 0\n",
    "\n",
    "li = [[0,0] for i in range(len(arrows)+1)]\n",
    "print(li)\n",
    "# for j, i in enumerate(arrows):\n",
    "for i in range(len(arrows)):\n",
    "\n",
    "  de_dot[0] += dic[arrows[i]][0]\n",
    "  de_dot[1] += dic[arrows[i]][1]\n",
    "  print(de_dot)\n",
    "  if de_dot in li:\n",
    "    cou +=1\n",
    "  li[i+1][0] = de_dot[0]\n",
    "  li[i+1][1] = de_dot[1]\n",
    "  \n",
    "\n",
    "print(li)\n",
    "print(cou)\n",
    "\n",
    "import matplotlib.pyplot as plt\n",
    "\n",
    "plt.plot(1,2)\n",
    "plt.show"
   ]
  },
  {
   "cell_type": "code",
   "execution_count": 12,
   "metadata": {},
   "outputs": [
    {
     "data": {
      "image/png": "[encoded data removed]",
      "text/plain": [
       "<Figure size 432x288 with 1 Axes>"
      ]
     },
     "metadata": {
      "needs_background": "light"
     },
     "output_type": "display_data"
    }
   ],
   "source": [
    "for i in range(len(li)):\n",
    "    plt.plot(li[i][0],li[i][1], 'r')\n",
    "    \n",
    "plt.show()"
   ]
  },
  {
   "cell_type": "code",
   "execution_count": 18,
   "metadata": {},
   "outputs": [
    {
     "name": "stdout",
     "output_type": "stream",
     "text": [
      "[[0, -1, -2, -3, -3, -3, -3, -2, -1, 0, 0, 0, 0, 1, 0, -1, -2, -1, -2, -2], [0, 0, 0, 0, -1, -2, -3, -3, -3, -3, -2, -1, 0, 1, 1, 0, -1, -2, -2, -1]]\n"
     ]
    },
    {
     "data": {
      "image/png": "[encoded data removed]",
      "text/plain": [
       "<Figure size 432x288 with 1 Axes>"
      ]
     },
     "metadata": {
      "needs_background": "light"
     },
     "output_type": "display_data"
    }
   ],
   "source": [
    "qw = [[],[]]\n",
    "for i in li:\n",
    "    qw[0].append(i[0])\n",
    "    qw[1].append(i[1])\n",
    "print(qw)\n",
    "plt.plot(qw[0],qw[1], 'r')\n",
    "plt.show()"
   ]
  },
  {
   "cell_type": "code",
   "execution_count": null,
   "metadata": {},
   "outputs": [],
   "source": []
  }
 ],
 "metadata": {
  "kernelspec": {
   "display_name": "Python 3",
   "language": "python",
   "name": "python3"
  },
  "language_info": {
   "codemirror_mode": {
    "name": "ipython",
    "version": 3
   },
   "file_extension": ".py",
   "mimetype": "text/x-python",
   "name": "python",
   "nbconvert_exporter": "python",
   "pygments_lexer": "ipython3",
   "version": "3.7.3"
  }
 },
 "nbformat": 4,
 "nbformat_minor": 2
}
